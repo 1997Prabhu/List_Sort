{
 "cells": [
  {
   "cell_type": "code",
   "execution_count": 5,
   "id": "b04ee48c",
   "metadata": {},
   "outputs": [
    {
     "name": "stdout",
     "output_type": "stream",
     "text": [
      "[(2, 5), (1, 2), (4, 4), (2, 3), (2, 1)]\n",
      "OUTPUT : [(2, 1), (1, 2), (2, 3), (4, 4), (2, 5)]\n"
     ]
    }
   ],
   "source": [
    "list1 =[(2,5),(1,2),(4,4),(2,3),(2,1)]\n",
    "print(list1)\n",
    "listlen = len(list1)\n",
    "for i in range (0, listlen):\n",
    "    for j in range (0,listlen -i -1):\n",
    "        if(list1[j][-1]>list1[j+1][-1]):\n",
    "            swap=list1[j]\n",
    "            list1[j]=list1[j+1]\n",
    "            list1[j+1]=swap\n",
    "print(\"OUTPUT :\", list1)"
   ]
  },
  {
   "cell_type": "code",
   "execution_count": null,
   "id": "18590012",
   "metadata": {},
   "outputs": [],
   "source": []
  }
 ],
 "metadata": {
  "kernelspec": {
   "display_name": "Python 3 (ipykernel)",
   "language": "python",
   "name": "python3"
  },
  "language_info": {
   "codemirror_mode": {
    "name": "ipython",
    "version": 3
   },
   "file_extension": ".py",
   "mimetype": "text/x-python",
   "name": "python",
   "nbconvert_exporter": "python",
   "pygments_lexer": "ipython3",
   "version": "3.8.0"
  }
 },
 "nbformat": 4,
 "nbformat_minor": 5
}
